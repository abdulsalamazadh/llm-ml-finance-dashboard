{
 "cells": [
  {
   "cell_type": "code",
   "execution_count": 2,
   "id": "2a0a7298",
   "metadata": {},
   "outputs": [],
   "source": [
    "import pandas as pd\n",
    "\n",
    "df = pd.read_csv('all_stocks_5yr_cleaned.csv')"
   ]
  },
  {
   "cell_type": "code",
   "execution_count": 3,
   "id": "45a0b4d7",
   "metadata": {},
   "outputs": [
    {
     "data": {
      "text/html": [
       "<div>\n",
       "<style scoped>\n",
       "    .dataframe tbody tr th:only-of-type {\n",
       "        vertical-align: middle;\n",
       "    }\n",
       "\n",
       "    .dataframe tbody tr th {\n",
       "        vertical-align: top;\n",
       "    }\n",
       "\n",
       "    .dataframe thead th {\n",
       "        text-align: right;\n",
       "    }\n",
       "</style>\n",
       "<table border=\"1\" class=\"dataframe\">\n",
       "  <thead>\n",
       "    <tr style=\"text-align: right;\">\n",
       "      <th></th>\n",
       "      <th>date</th>\n",
       "      <th>open</th>\n",
       "      <th>high</th>\n",
       "      <th>low</th>\n",
       "      <th>close</th>\n",
       "      <th>volume</th>\n",
       "      <th>Name</th>\n",
       "      <th>log_close</th>\n",
       "      <th>price_range</th>\n",
       "      <th>price_change</th>\n",
       "      <th>percent_change_close</th>\n",
       "      <th>rolling_avg_7</th>\n",
       "      <th>rolling_std_7</th>\n",
       "      <th>log_volume</th>\n",
       "    </tr>\n",
       "  </thead>\n",
       "  <tbody>\n",
       "    <tr>\n",
       "      <th>0</th>\n",
       "      <td>2013-02-19</td>\n",
       "      <td>14.33</td>\n",
       "      <td>14.56</td>\n",
       "      <td>14.08</td>\n",
       "      <td>14.26</td>\n",
       "      <td>11354400</td>\n",
       "      <td>AAL</td>\n",
       "      <td>2.725235</td>\n",
       "      <td>0.48</td>\n",
       "      <td>-0.07</td>\n",
       "      <td>-0.488486</td>\n",
       "      <td>14.412857</td>\n",
       "      <td>0.260494</td>\n",
       "      <td>16.245116</td>\n",
       "    </tr>\n",
       "    <tr>\n",
       "      <th>1</th>\n",
       "      <td>2013-02-20</td>\n",
       "      <td>14.17</td>\n",
       "      <td>14.26</td>\n",
       "      <td>13.15</td>\n",
       "      <td>13.33</td>\n",
       "      <td>14725200</td>\n",
       "      <td>AAL</td>\n",
       "      <td>2.662355</td>\n",
       "      <td>1.11</td>\n",
       "      <td>-0.84</td>\n",
       "      <td>-5.928017</td>\n",
       "      <td>14.210000</td>\n",
       "      <td>0.443095</td>\n",
       "      <td>16.505071</td>\n",
       "    </tr>\n",
       "    <tr>\n",
       "      <th>2</th>\n",
       "      <td>2013-02-21</td>\n",
       "      <td>13.62</td>\n",
       "      <td>13.95</td>\n",
       "      <td>12.90</td>\n",
       "      <td>13.37</td>\n",
       "      <td>11922100</td>\n",
       "      <td>AAL</td>\n",
       "      <td>2.665143</td>\n",
       "      <td>1.05</td>\n",
       "      <td>-0.25</td>\n",
       "      <td>-1.835536</td>\n",
       "      <td>14.054286</td>\n",
       "      <td>0.524622</td>\n",
       "      <td>16.293904</td>\n",
       "    </tr>\n",
       "    <tr>\n",
       "      <th>3</th>\n",
       "      <td>2013-02-22</td>\n",
       "      <td>13.57</td>\n",
       "      <td>13.60</td>\n",
       "      <td>13.21</td>\n",
       "      <td>13.57</td>\n",
       "      <td>6071400</td>\n",
       "      <td>AAL</td>\n",
       "      <td>2.678965</td>\n",
       "      <td>0.39</td>\n",
       "      <td>0.00</td>\n",
       "      <td>0.000000</td>\n",
       "      <td>13.954286</td>\n",
       "      <td>0.543043</td>\n",
       "      <td>15.619100</td>\n",
       "    </tr>\n",
       "    <tr>\n",
       "      <th>4</th>\n",
       "      <td>2013-02-25</td>\n",
       "      <td>13.60</td>\n",
       "      <td>13.76</td>\n",
       "      <td>13.00</td>\n",
       "      <td>13.02</td>\n",
       "      <td>7186400</td>\n",
       "      <td>AAL</td>\n",
       "      <td>2.640485</td>\n",
       "      <td>0.76</td>\n",
       "      <td>-0.58</td>\n",
       "      <td>-4.264706</td>\n",
       "      <td>13.720000</td>\n",
       "      <td>0.541603</td>\n",
       "      <td>15.787701</td>\n",
       "    </tr>\n",
       "  </tbody>\n",
       "</table>\n",
       "</div>"
      ],
      "text/plain": [
       "         date   open   high    low  close    volume Name  log_close  \\\n",
       "0  2013-02-19  14.33  14.56  14.08  14.26  11354400  AAL   2.725235   \n",
       "1  2013-02-20  14.17  14.26  13.15  13.33  14725200  AAL   2.662355   \n",
       "2  2013-02-21  13.62  13.95  12.90  13.37  11922100  AAL   2.665143   \n",
       "3  2013-02-22  13.57  13.60  13.21  13.57   6071400  AAL   2.678965   \n",
       "4  2013-02-25  13.60  13.76  13.00  13.02   7186400  AAL   2.640485   \n",
       "\n",
       "   price_range  price_change  percent_change_close  rolling_avg_7  \\\n",
       "0         0.48         -0.07             -0.488486      14.412857   \n",
       "1         1.11         -0.84             -5.928017      14.210000   \n",
       "2         1.05         -0.25             -1.835536      14.054286   \n",
       "3         0.39          0.00              0.000000      13.954286   \n",
       "4         0.76         -0.58             -4.264706      13.720000   \n",
       "\n",
       "   rolling_std_7  log_volume  \n",
       "0       0.260494   16.245116  \n",
       "1       0.443095   16.505071  \n",
       "2       0.524622   16.293904  \n",
       "3       0.543043   15.619100  \n",
       "4       0.541603   15.787701  "
      ]
     },
     "execution_count": 3,
     "metadata": {},
     "output_type": "execute_result"
    }
   ],
   "source": [
    "df.head()"
   ]
  },
  {
   "cell_type": "code",
   "execution_count": 4,
   "id": "c477a277",
   "metadata": {},
   "outputs": [],
   "source": [
    "#Define a function to format volume numbers with commas\n",
    "def human_readable_volume(v):\n",
    "    return f\"{int(v):,}\""
   ]
  },
  {
   "cell_type": "code",
   "execution_count": 5,
   "id": "8780c5f6",
   "metadata": {},
   "outputs": [
    {
     "name": "stdout",
     "output_type": "stream",
     "text": [
      "         date   open   high    low  close    volume Name  log_close  \\\n",
      "0  2013-02-19  14.33  14.56  14.08  14.26  11354400  AAL   2.725235   \n",
      "1  2013-02-20  14.17  14.26  13.15  13.33  14725200  AAL   2.662355   \n",
      "2  2013-02-21  13.62  13.95  12.90  13.37  11922100  AAL   2.665143   \n",
      "3  2013-02-22  13.57  13.60  13.21  13.57   6071400  AAL   2.678965   \n",
      "4  2013-02-25  13.60  13.76  13.00  13.02   7186400  AAL   2.640485   \n",
      "\n",
      "   price_range  price_change  percent_change_close  rolling_avg_7  \\\n",
      "0         0.48         -0.07             -0.488486      14.412857   \n",
      "1         1.11         -0.84             -5.928017      14.210000   \n",
      "2         1.05         -0.25             -1.835536      14.054286   \n",
      "3         0.39          0.00              0.000000      13.954286   \n",
      "4         0.76         -0.58             -4.264706      13.720000   \n",
      "\n",
      "   rolling_std_7  log_volume Formatted_Volume  \n",
      "0       0.260494   16.245116       11,354,400  \n",
      "1       0.443095   16.505071       14,725,200  \n",
      "2       0.524622   16.293904       11,922,100  \n",
      "3       0.543043   15.619100        6,071,400  \n",
      "4       0.541603   15.787701        7,186,400  \n"
     ]
    }
   ],
   "source": [
    "# creating the empty lst to store the formatted volumes\n",
    "formatted_volumes = []\n",
    "# Loop through the 'Volume' column and format each value\n",
    "for volume in df['volume']:\n",
    "    formatted_volumes.append(human_readable_volume(volume))\n",
    "# Assign the formatted volumes back to the DataFrame\n",
    "df['Formatted_Volume'] = formatted_volumes\n",
    "# Save the modified DataFrame to a new CSV file\n",
    "df.to_csv('all_stocks_5yr_with_formatted_volume.csv')\n",
    "# Display the first few rows of the modified DataFrame  \n",
    "print(df.head())"
   ]
  },
  {
   "cell_type": "code",
   "execution_count": 6,
   "id": "d0a87366",
   "metadata": {},
   "outputs": [],
   "source": [
    "#Create a readable sentence from the row's data\n",
    "\n",
    "def create_readable_sentence(row):\n",
    "    return (f\"On {row['date']}, the stock {row['Name']} opened at ${row['open']:.2f}, closed at ${row['close']:.2f}, had a high of ${row['high']:.2f}, a low of ${row['low']:.2f}, and traded a volume of {row['Formatted_Volume']}.\")\n"
   ]
  },
  {
   "cell_type": "code",
   "execution_count": null,
   "id": "fe45f5f8",
   "metadata": {},
   "outputs": [],
   "source": [
    "# Loop over each row and generate text chunks\n",
    "text_chunks = []\n",
    "for _, row in df.iterrows():\n",
    "    sentence = create_readable_sentence(row)\n",
    "    text_chunks.append(sentence)"
   ]
  },
  {
   "cell_type": "code",
   "execution_count": 12,
   "id": "c33d6b37",
   "metadata": {},
   "outputs": [],
   "source": [
    "#Loop over each row and generate text chunks\n",
    "with open(\"financial_text_chunks.txt\", \"w\") as f:\n",
    "    for line in text_chunks:\n",
    "        f.write(line + \"\\n\")\n"
   ]
  },
  {
   "cell_type": "code",
   "execution_count": 11,
   "id": "f359311f",
   "metadata": {},
   "outputs": [
    {
     "name": "stdout",
     "output_type": "stream",
     "text": [
      "✅ Saved 619023 text chunks to 'financial_text_chunks.txt'\n"
     ]
    }
   ],
   "source": [
    "# Confirm success\n",
    "print(f\"✅ Saved {len(text_chunks)} text chunks to 'financial_text_chunks.txt'\")"
   ]
  }
 ],
 "metadata": {
  "kernelspec": {
   "display_name": "Python 3",
   "language": "python",
   "name": "python3"
  },
  "language_info": {
   "codemirror_mode": {
    "name": "ipython",
    "version": 3
   },
   "file_extension": ".py",
   "mimetype": "text/x-python",
   "name": "python",
   "nbconvert_exporter": "python",
   "pygments_lexer": "ipython3",
   "version": "3.10.12"
  }
 },
 "nbformat": 4,
 "nbformat_minor": 5
}
